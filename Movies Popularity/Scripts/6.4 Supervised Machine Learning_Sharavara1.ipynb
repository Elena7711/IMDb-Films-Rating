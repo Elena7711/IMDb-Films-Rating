{
 "cells": [
  {
   "cell_type": "markdown",
   "id": "208ef75c",
   "metadata": {},
   "source": [
    "# 6.4: Supervised Machine Learning: Regression"
   ]
  },
  {
   "cell_type": "markdown",
   "id": "05f732f9",
   "metadata": {},
   "source": [
    "### 1. Import data and libraries"
   ]
  },
  {
   "cell_type": "code",
   "execution_count": 65,
   "id": "78cb64f7",
   "metadata": {},
   "outputs": [],
   "source": [
    "import pandas as pd\n",
    "import numpy as np\n",
    "import seaborn as sns\n",
    "import matplotlib\n",
    "import matplotlib.pyplot as plt\n",
    "import os\n",
    "import sklearn\n",
    "from sklearn.model_selection import train_test_split\n",
    "from sklearn.linear_model import LinearRegression\n",
    "from sklearn.metrics import mean_squared_error, r2_score"
   ]
  },
  {
   "cell_type": "code",
   "execution_count": 66,
   "id": "be20bef5",
   "metadata": {},
   "outputs": [],
   "source": [
    "# This command propts matplotlib visuals to appear in the notebook \n",
    "\n",
    "%matplotlib inline"
   ]
  },
  {
   "cell_type": "code",
   "execution_count": 8,
   "id": "ac392c1d",
   "metadata": {},
   "outputs": [],
   "source": [
    "# Define path\n",
    "\n",
    "path = r'/Users/elenasharavara/Documents/02 Data /Prepared data'"
   ]
  },
  {
   "cell_type": "code",
   "execution_count": 179,
   "id": "880a8341",
   "metadata": {},
   "outputs": [],
   "source": [
    "# Import data\n",
    "\n",
    "movie_dataset = pd.read_csv(os.path.join(path, 'movie_dataset.csv'), index_col = False)"
   ]
  },
  {
   "cell_type": "markdown",
   "id": "e1ba2c1f",
   "metadata": {},
   "source": [
    "### 2. Data wrangling and cleaning"
   ]
  },
  {
   "cell_type": "code",
   "execution_count": 171,
   "id": "796b104f",
   "metadata": {
    "scrolled": true
   },
   "outputs": [
    {
     "data": {
      "text/plain": [
       "Index(['Unnamed: 0', 'film_id', 'film_title', 'vote_average', 'vote_count',\n",
       "       'status', 'release_date', 'revenue', 'runtime', 'adult', 'budget',\n",
       "       'original_language', 'popularity', 'genres', 'production_companies',\n",
       "       'production_countries', 'spoken_languages'],\n",
       "      dtype='object')"
      ]
     },
     "execution_count": 171,
     "metadata": {},
     "output_type": "execute_result"
    }
   ],
   "source": [
    "movie_dataset.columns"
   ]
  },
  {
   "cell_type": "code",
   "execution_count": 172,
   "id": "cb604ae9",
   "metadata": {},
   "outputs": [
    {
     "data": {
      "text/plain": [
       "0         False\n",
       "1         False\n",
       "2         False\n",
       "3         False\n",
       "4         False\n",
       "          ...  \n",
       "934740    False\n",
       "934741    False\n",
       "934742    False\n",
       "934743    False\n",
       "934744    False\n",
       "Length: 934745, dtype: bool"
      ]
     },
     "execution_count": 172,
     "metadata": {},
     "output_type": "execute_result"
    }
   ],
   "source": [
    "movie_dataset.duplicated()"
   ]
  },
  {
   "cell_type": "code",
   "execution_count": 122,
   "id": "03c2a006",
   "metadata": {},
   "outputs": [
    {
     "data": {
      "text/plain": [
       "Unnamed: 0                   0\n",
       "film_id                      0\n",
       "film_title                  11\n",
       "vote_average                 0\n",
       "vote_count                   0\n",
       "status                       0\n",
       "release_date             84528\n",
       "revenue                      0\n",
       "runtime                      0\n",
       "adult                        0\n",
       "budget                       0\n",
       "original_language            0\n",
       "popularity                   0\n",
       "genres                  328991\n",
       "production_companies    477871\n",
       "production_countries    362314\n",
       "spoken_languages        356693\n",
       "dtype: int64"
      ]
     },
     "execution_count": 122,
     "metadata": {},
     "output_type": "execute_result"
    }
   ],
   "source": [
    "# Check for missing values\n",
    "\n",
    "movie_dataset.isnull().sum()"
   ]
  },
  {
   "cell_type": "code",
   "execution_count": 19,
   "id": "c7885ef9",
   "metadata": {},
   "outputs": [],
   "source": [
    "#create a sample from larger data set \n",
    "sample = movie_dataset.sample(n=5000)\n"
   ]
  },
  {
   "cell_type": "code",
   "execution_count": 27,
   "id": "54d3f0ab",
   "metadata": {},
   "outputs": [
    {
     "data": {
      "image/png": "[encoded data removed]",
      "text/plain": [
       "<Figure size 640x480 with 1 Axes>"
      ]
     },
     "metadata": {},
     "output_type": "display_data"
    }
   ],
   "source": [
    "# Create a scatterplot comparing runtime and vote_average\n",
    "# used sample because using entire dataset covered the whole field in dots\n",
    "\n",
    "sample.plot(x = 'episode_run_time', y= 'vote_average' ,style='o') \n",
    "plt.title('Vote average and runtime')  \n",
    "plt.xlabel('episode_run_time')  \n",
    "plt.ylabel('vote_average')  \n",
    "plt.show()"
   ]
  },
  {
   "cell_type": "markdown",
   "id": "323fcdb5",
   "metadata": {},
   "source": [
    "## 3. Prepare variables for regression "
   ]
  },
  {
   "cell_type": "code",
   "execution_count": 28,
   "id": "2bf24da0",
   "metadata": {},
   "outputs": [],
   "source": [
    "#reshape variables for regression \n",
    "X = sample['episode_run_time'].values.reshape(-1, 1)\n",
    "y = sample['vote_average'].values.reshape(-1, 1)"
   ]
  },
  {
   "cell_type": "code",
   "execution_count": 29,
   "id": "1feebd49",
   "metadata": {},
   "outputs": [],
   "source": [
    "X_train, X_test, y_train, y_test = train_test_split(X, y, test_size = 0.3, random_state = 0)"
   ]
  },
  {
   "cell_type": "code",
   "execution_count": 30,
   "id": "d958a94a",
   "metadata": {},
   "outputs": [],
   "source": [
    "#create linear regression object\n",
    "regression = LinearRegression()"
   ]
  },
  {
   "cell_type": "code",
   "execution_count": 31,
   "id": "a480b3b0",
   "metadata": {
    "scrolled": true
   },
   "outputs": [
    {
     "data": {
      "text/html": [
       "<style>#sk-container-id-2 {color: black;background-color: white;}#sk-container-id-2 pre{padding: 0;}#sk-container-id-2 div.sk-toggleable {background-color: white;}#sk-container-id-2 label.sk-toggleable__label {cursor: pointer;display: block;width: 100%;margin-bottom: 0;padding: 0.3em;box-sizing: border-box;text-align: center;}#sk-container-id-2 label.sk-toggleable__label-arrow:before {content: \"▸\";float: left;margin-right: 0.25em;color: #696969;}#sk-container-id-2 label.sk-toggleable__label-arrow:hover:before {color: black;}#sk-container-id-2 div.sk-estimator:hover label.sk-toggleable__label-arrow:before {color: black;}#sk-container-id-2 div.sk-toggleable__content {max-height: 0;max-width: 0;overflow: hidden;text-align: left;background-color: #f0f8ff;}#sk-container-id-2 div.sk-toggleable__content pre {margin: 0.2em;color: black;border-radius: 0.25em;background-color: #f0f8ff;}#sk-container-id-2 input.sk-toggleable__control:checked~div.sk-toggleable__content {max-height: 200px;max-width: 100%;overflow: auto;}#sk-container-id-2 input.sk-toggleable__control:checked~label.sk-toggleable__label-arrow:before {content: \"▾\";}#sk-container-id-2 div.sk-estimator input.sk-toggleable__control:checked~label.sk-toggleable__label {background-color: #d4ebff;}#sk-container-id-2 div.sk-label input.sk-toggleable__control:checked~label.sk-toggleable__label {background-color: #d4ebff;}#sk-container-id-2 input.sk-hidden--visually {border: 0;clip: rect(1px 1px 1px 1px);clip: rect(1px, 1px, 1px, 1px);height: 1px;margin: -1px;overflow: hidden;padding: 0;position: absolute;width: 1px;}#sk-container-id-2 div.sk-estimator {font-family: monospace;background-color: #f0f8ff;border: 1px dotted black;border-radius: 0.25em;box-sizing: border-box;margin-bottom: 0.5em;}#sk-container-id-2 div.sk-estimator:hover {background-color: #d4ebff;}#sk-container-id-2 div.sk-parallel-item::after {content: \"\";width: 100%;border-bottom: 1px solid gray;flex-grow: 1;}#sk-container-id-2 div.sk-label:hover label.sk-toggleable__label {background-color: #d4ebff;}#sk-container-id-2 div.sk-serial::before {content: \"\";position: absolute;border-left: 1px solid gray;box-sizing: border-box;top: 0;bottom: 0;left: 50%;z-index: 0;}#sk-container-id-2 div.sk-serial {display: flex;flex-direction: column;align-items: center;background-color: white;padding-right: 0.2em;padding-left: 0.2em;position: relative;}#sk-container-id-2 div.sk-item {position: relative;z-index: 1;}#sk-container-id-2 div.sk-parallel {display: flex;align-items: stretch;justify-content: center;background-color: white;position: relative;}#sk-container-id-2 div.sk-item::before, #sk-container-id-2 div.sk-parallel-item::before {content: \"\";position: absolute;border-left: 1px solid gray;box-sizing: border-box;top: 0;bottom: 0;left: 50%;z-index: -1;}#sk-container-id-2 div.sk-parallel-item {display: flex;flex-direction: column;z-index: 1;position: relative;background-color: white;}#sk-container-id-2 div.sk-parallel-item:first-child::after {align-self: flex-end;width: 50%;}#sk-container-id-2 div.sk-parallel-item:last-child::after {align-self: flex-start;width: 50%;}#sk-container-id-2 div.sk-parallel-item:only-child::after {width: 0;}#sk-container-id-2 div.sk-dashed-wrapped {border: 1px dashed gray;margin: 0 0.4em 0.5em 0.4em;box-sizing: border-box;padding-bottom: 0.4em;background-color: white;}#sk-container-id-2 div.sk-label label {font-family: monospace;font-weight: bold;display: inline-block;line-height: 1.2em;}#sk-container-id-2 div.sk-label-container {text-align: center;}#sk-container-id-2 div.sk-container {/* jupyter's `normalize.less` sets `[hidden] { display: none; }` but bootstrap.min.css set `[hidden] { display: none !important; }` so we also need the `!important` here to be able to override the default hidden behavior on the sphinx rendered scikit-learn.org. See: https://github.com/scikit-learn/scikit-learn/issues/21755 */display: inline-block !important;position: relative;}#sk-container-id-2 div.sk-text-repr-fallback {display: none;}</style><div id=\"sk-container-id-2\" class=\"sk-top-container\"><div class=\"sk-text-repr-fallback\"><pre>LinearRegression()</pre><b>In a Jupyter environment, please rerun this cell to show the HTML representation or trust the notebook. <br />On GitHub, the HTML representation is unable to render, please try loading this page with nbviewer.org.</b></div><div class=\"sk-container\" hidden><div class=\"sk-item\"><div class=\"sk-estimator sk-toggleable\"><input class=\"sk-toggleable__control sk-hidden--visually\" id=\"sk-estimator-id-2\" type=\"checkbox\" checked><label for=\"sk-estimator-id-2\" class=\"sk-toggleable__label sk-toggleable__label-arrow\">LinearRegression</label><div class=\"sk-toggleable__content\"><pre>LinearRegression()</pre></div></div></div></div></div>"
      ],
      "text/plain": [
       "LinearRegression()"
      ]
     },
     "execution_count": 31,
     "metadata": {},
     "output_type": "execute_result"
    }
   ],
   "source": [
    "#fit regression to training set\n",
    "regression.fit(X_train, y_train)"
   ]
  },
  {
   "cell_type": "code",
   "execution_count": 32,
   "id": "582814dd",
   "metadata": {},
   "outputs": [],
   "source": [
    "y_predicted = regression.predict(X_test)"
   ]
  },
  {
   "cell_type": "code",
   "execution_count": 33,
   "id": "0918df10",
   "metadata": {},
   "outputs": [
    {
     "data": {
      "image/png": "[encoded data removed]",
      "text/plain": [
       "<Figure size 640x480 with 1 Axes>"
      ]
     },
     "metadata": {},
     "output_type": "display_data"
    }
   ],
   "source": [
    "# Create a plot that shows the regression line from the model on the test set.\n",
    "\n",
    "plot_test = plt\n",
    "plot_test.scatter(X_test, y_test, color='gray', s = 15)\n",
    "plot_test.plot(X_test, y_predicted, color='red', linewidth =3)\n",
    "plot_test.title('Vote average and runtime (Test set)')\n",
    "plot_test.xlabel('episode_run_time')\n",
    "plot_test.ylabel('vote_average')\n",
    "plot_test.show()"
   ]
  },
  {
   "cell_type": "markdown",
   "id": "5d7e0450",
   "metadata": {},
   "source": [
    "### Hypothesis: Films that are shorter than 100 minutes have a higher vote average."
   ]
  },
  {
   "cell_type": "code",
   "execution_count": 34,
   "id": "7cabe971",
   "metadata": {},
   "outputs": [],
   "source": [
    "# Create objects for model mean squared error and R2 score\n",
    "\n",
    "rmse = mean_squared_error(y_test, y_predicted)\n",
    "r2 = r2_score(y_test, y_predicted)"
   ]
  },
  {
   "cell_type": "code",
   "execution_count": 35,
   "id": "b65f7fa5",
   "metadata": {},
   "outputs": [
    {
     "name": "stdout",
     "output_type": "stream",
     "text": [
      "Slope: [[0.00265042]]\n",
      "Mean squared error:  13.12971357493364\n",
      "R2 score:  0.008061201651901828\n"
     ]
    }
   ],
   "source": [
    "# Print the model summary statistics\n",
    "\n",
    "print('Slope:' ,regression.coef_)\n",
    "print('Mean squared error: ', rmse)\n",
    "print('R2 score: ', r2)"
   ]
  },
  {
   "cell_type": "code",
   "execution_count": 36,
   "id": "9631f9cf",
   "metadata": {},
   "outputs": [
    {
     "data": {
      "text/html": [
       "<div>\n",
       "<style scoped>\n",
       "    .dataframe tbody tr th:only-of-type {\n",
       "        vertical-align: middle;\n",
       "    }\n",
       "\n",
       "    .dataframe tbody tr th {\n",
       "        vertical-align: top;\n",
       "    }\n",
       "\n",
       "    .dataframe thead th {\n",
       "        text-align: right;\n",
       "    }\n",
       "</style>\n",
       "<table border=\"1\" class=\"dataframe\">\n",
       "  <thead>\n",
       "    <tr style=\"text-align: right;\">\n",
       "      <th></th>\n",
       "      <th>Actual</th>\n",
       "      <th>Predicted</th>\n",
       "    </tr>\n",
       "  </thead>\n",
       "  <tbody>\n",
       "    <tr>\n",
       "      <th>0</th>\n",
       "      <td>0.000</td>\n",
       "      <td>2.447440</td>\n",
       "    </tr>\n",
       "    <tr>\n",
       "      <th>1</th>\n",
       "      <td>6.000</td>\n",
       "      <td>2.526953</td>\n",
       "    </tr>\n",
       "    <tr>\n",
       "      <th>2</th>\n",
       "      <td>0.000</td>\n",
       "      <td>2.447440</td>\n",
       "    </tr>\n",
       "    <tr>\n",
       "      <th>3</th>\n",
       "      <td>9.000</td>\n",
       "      <td>2.564059</td>\n",
       "    </tr>\n",
       "    <tr>\n",
       "      <th>4</th>\n",
       "      <td>8.700</td>\n",
       "      <td>2.606465</td>\n",
       "    </tr>\n",
       "    <tr>\n",
       "      <th>5</th>\n",
       "      <td>0.000</td>\n",
       "      <td>2.513701</td>\n",
       "    </tr>\n",
       "    <tr>\n",
       "      <th>6</th>\n",
       "      <td>7.800</td>\n",
       "      <td>2.447440</td>\n",
       "    </tr>\n",
       "    <tr>\n",
       "      <th>7</th>\n",
       "      <td>0.000</td>\n",
       "      <td>2.447440</td>\n",
       "    </tr>\n",
       "    <tr>\n",
       "      <th>8</th>\n",
       "      <td>0.000</td>\n",
       "      <td>2.447440</td>\n",
       "    </tr>\n",
       "    <tr>\n",
       "      <th>9</th>\n",
       "      <td>0.000</td>\n",
       "      <td>2.447440</td>\n",
       "    </tr>\n",
       "    <tr>\n",
       "      <th>10</th>\n",
       "      <td>0.000</td>\n",
       "      <td>2.447440</td>\n",
       "    </tr>\n",
       "    <tr>\n",
       "      <th>11</th>\n",
       "      <td>7.800</td>\n",
       "      <td>2.447440</td>\n",
       "    </tr>\n",
       "    <tr>\n",
       "      <th>12</th>\n",
       "      <td>0.000</td>\n",
       "      <td>2.513701</td>\n",
       "    </tr>\n",
       "    <tr>\n",
       "      <th>13</th>\n",
       "      <td>0.000</td>\n",
       "      <td>2.526953</td>\n",
       "    </tr>\n",
       "    <tr>\n",
       "      <th>14</th>\n",
       "      <td>0.000</td>\n",
       "      <td>2.566709</td>\n",
       "    </tr>\n",
       "    <tr>\n",
       "      <th>15</th>\n",
       "      <td>3.000</td>\n",
       "      <td>2.447440</td>\n",
       "    </tr>\n",
       "    <tr>\n",
       "      <th>16</th>\n",
       "      <td>0.000</td>\n",
       "      <td>2.526953</td>\n",
       "    </tr>\n",
       "    <tr>\n",
       "      <th>17</th>\n",
       "      <td>0.000</td>\n",
       "      <td>2.566709</td>\n",
       "    </tr>\n",
       "    <tr>\n",
       "      <th>18</th>\n",
       "      <td>0.000</td>\n",
       "      <td>2.447440</td>\n",
       "    </tr>\n",
       "    <tr>\n",
       "      <th>19</th>\n",
       "      <td>0.000</td>\n",
       "      <td>2.511050</td>\n",
       "    </tr>\n",
       "    <tr>\n",
       "      <th>20</th>\n",
       "      <td>7.800</td>\n",
       "      <td>2.447440</td>\n",
       "    </tr>\n",
       "    <tr>\n",
       "      <th>21</th>\n",
       "      <td>0.000</td>\n",
       "      <td>2.447440</td>\n",
       "    </tr>\n",
       "    <tr>\n",
       "      <th>22</th>\n",
       "      <td>5.900</td>\n",
       "      <td>2.447440</td>\n",
       "    </tr>\n",
       "    <tr>\n",
       "      <th>23</th>\n",
       "      <td>3.000</td>\n",
       "      <td>2.447440</td>\n",
       "    </tr>\n",
       "    <tr>\n",
       "      <th>24</th>\n",
       "      <td>5.500</td>\n",
       "      <td>2.606465</td>\n",
       "    </tr>\n",
       "    <tr>\n",
       "      <th>25</th>\n",
       "      <td>0.000</td>\n",
       "      <td>2.447440</td>\n",
       "    </tr>\n",
       "    <tr>\n",
       "      <th>26</th>\n",
       "      <td>6.000</td>\n",
       "      <td>2.566709</td>\n",
       "    </tr>\n",
       "    <tr>\n",
       "      <th>27</th>\n",
       "      <td>5.000</td>\n",
       "      <td>2.447440</td>\n",
       "    </tr>\n",
       "    <tr>\n",
       "      <th>28</th>\n",
       "      <td>0.000</td>\n",
       "      <td>2.447440</td>\n",
       "    </tr>\n",
       "    <tr>\n",
       "      <th>29</th>\n",
       "      <td>7.743</td>\n",
       "      <td>2.511050</td>\n",
       "    </tr>\n",
       "  </tbody>\n",
       "</table>\n",
       "</div>"
      ],
      "text/plain": [
       "    Actual  Predicted\n",
       "0    0.000   2.447440\n",
       "1    6.000   2.526953\n",
       "2    0.000   2.447440\n",
       "3    9.000   2.564059\n",
       "4    8.700   2.606465\n",
       "5    0.000   2.513701\n",
       "6    7.800   2.447440\n",
       "7    0.000   2.447440\n",
       "8    0.000   2.447440\n",
       "9    0.000   2.447440\n",
       "10   0.000   2.447440\n",
       "11   7.800   2.447440\n",
       "12   0.000   2.513701\n",
       "13   0.000   2.526953\n",
       "14   0.000   2.566709\n",
       "15   3.000   2.447440\n",
       "16   0.000   2.526953\n",
       "17   0.000   2.566709\n",
       "18   0.000   2.447440\n",
       "19   0.000   2.511050\n",
       "20   7.800   2.447440\n",
       "21   0.000   2.447440\n",
       "22   5.900   2.447440\n",
       "23   3.000   2.447440\n",
       "24   5.500   2.606465\n",
       "25   0.000   2.447440\n",
       "26   6.000   2.566709\n",
       "27   5.000   2.447440\n",
       "28   0.000   2.447440\n",
       "29   7.743   2.511050"
      ]
     },
     "execution_count": 36,
     "metadata": {},
     "output_type": "execute_result"
    }
   ],
   "source": [
    "# Create a dataframe comparing the actual and predicted values of y.\n",
    "\n",
    "data = pd.DataFrame({'Actual': y_test.flatten(), 'Predicted': y_predicted.flatten()})\n",
    "data.head(30)"
   ]
  },
  {
   "cell_type": "markdown",
   "id": "ba6aded4",
   "metadata": {},
   "source": [
    "### predicted values are very far off of actual values in many cases. This model is not good at predicting trip time based on the checkout time of day"
   ]
  },
  {
   "cell_type": "markdown",
   "id": "92447880",
   "metadata": {},
   "source": [
    "## Create a subset for the runtime 0-100 minutes to see if it can create a better fitting model"
   ]
  },
  {
   "cell_type": "code",
   "execution_count": 37,
   "id": "63c10b25",
   "metadata": {},
   "outputs": [
    {
     "data": {
      "text/html": [
       "<div>\n",
       "<style scoped>\n",
       "    .dataframe tbody tr th:only-of-type {\n",
       "        vertical-align: middle;\n",
       "    }\n",
       "\n",
       "    .dataframe tbody tr th {\n",
       "        vertical-align: top;\n",
       "    }\n",
       "\n",
       "    .dataframe thead th {\n",
       "        text-align: right;\n",
       "    }\n",
       "</style>\n",
       "<table border=\"1\" class=\"dataframe\">\n",
       "  <thead>\n",
       "    <tr style=\"text-align: right;\">\n",
       "      <th></th>\n",
       "      <th>id</th>\n",
       "      <th>name</th>\n",
       "      <th>number_of_seasons</th>\n",
       "      <th>number_of_episodes</th>\n",
       "      <th>original_language</th>\n",
       "      <th>vote_count</th>\n",
       "      <th>vote_average</th>\n",
       "      <th>overview</th>\n",
       "      <th>adult</th>\n",
       "      <th>backdrop_path</th>\n",
       "      <th>...</th>\n",
       "      <th>tagline</th>\n",
       "      <th>genres</th>\n",
       "      <th>created_by</th>\n",
       "      <th>languages</th>\n",
       "      <th>networks</th>\n",
       "      <th>origin_country</th>\n",
       "      <th>spoken_languages</th>\n",
       "      <th>production_companies</th>\n",
       "      <th>production_countries</th>\n",
       "      <th>episode_run_time</th>\n",
       "    </tr>\n",
       "  </thead>\n",
       "  <tbody>\n",
       "    <tr>\n",
       "      <th>0</th>\n",
       "      <td>1399</td>\n",
       "      <td>Game of Thrones</td>\n",
       "      <td>8</td>\n",
       "      <td>73</td>\n",
       "      <td>en</td>\n",
       "      <td>21857</td>\n",
       "      <td>8.442</td>\n",
       "      <td>Seven noble families fight for control of the ...</td>\n",
       "      <td>False</td>\n",
       "      <td>/2OMB0ynKlyIenMJWI2Dy9IWT4c.jpg</td>\n",
       "      <td>...</td>\n",
       "      <td>Winter Is Coming</td>\n",
       "      <td>Sci-Fi &amp; Fantasy, Drama, Action &amp; Adventure</td>\n",
       "      <td>David Benioff, D.B. Weiss</td>\n",
       "      <td>en</td>\n",
       "      <td>HBO</td>\n",
       "      <td>US</td>\n",
       "      <td>English</td>\n",
       "      <td>Revolution Sun Studios, Television 360, Genera...</td>\n",
       "      <td>United Kingdom, United States of America</td>\n",
       "      <td>0</td>\n",
       "    </tr>\n",
       "    <tr>\n",
       "      <th>1</th>\n",
       "      <td>71446</td>\n",
       "      <td>Money Heist</td>\n",
       "      <td>3</td>\n",
       "      <td>41</td>\n",
       "      <td>es</td>\n",
       "      <td>17836</td>\n",
       "      <td>8.257</td>\n",
       "      <td>To carry out the biggest heist in history, a m...</td>\n",
       "      <td>False</td>\n",
       "      <td>/gFZriCkpJYsApPZEF3jhxL4yLzG.jpg</td>\n",
       "      <td>...</td>\n",
       "      <td>The perfect robbery.</td>\n",
       "      <td>Crime, Drama</td>\n",
       "      <td>Álex Pina</td>\n",
       "      <td>es</td>\n",
       "      <td>Netflix, Antena 3</td>\n",
       "      <td>ES</td>\n",
       "      <td>Español</td>\n",
       "      <td>Vancouver Media</td>\n",
       "      <td>Spain</td>\n",
       "      <td>70</td>\n",
       "    </tr>\n",
       "    <tr>\n",
       "      <th>2</th>\n",
       "      <td>66732</td>\n",
       "      <td>Stranger Things</td>\n",
       "      <td>4</td>\n",
       "      <td>34</td>\n",
       "      <td>en</td>\n",
       "      <td>16161</td>\n",
       "      <td>8.624</td>\n",
       "      <td>When a young boy vanishes, a small town uncove...</td>\n",
       "      <td>False</td>\n",
       "      <td>/2MaumbgBlW1NoPo3ZJO38A6v7OS.jpg</td>\n",
       "      <td>...</td>\n",
       "      <td>Every ending has a beginning.</td>\n",
       "      <td>Drama, Sci-Fi &amp; Fantasy, Mystery</td>\n",
       "      <td>Matt Duffer, Ross Duffer</td>\n",
       "      <td>en</td>\n",
       "      <td>Netflix</td>\n",
       "      <td>US</td>\n",
       "      <td>English</td>\n",
       "      <td>21 Laps Entertainment, Monkey Massacre Product...</td>\n",
       "      <td>United States of America</td>\n",
       "      <td>0</td>\n",
       "    </tr>\n",
       "    <tr>\n",
       "      <th>3</th>\n",
       "      <td>1402</td>\n",
       "      <td>The Walking Dead</td>\n",
       "      <td>11</td>\n",
       "      <td>177</td>\n",
       "      <td>en</td>\n",
       "      <td>15432</td>\n",
       "      <td>8.121</td>\n",
       "      <td>Sheriff's deputy Rick Grimes awakens from a co...</td>\n",
       "      <td>False</td>\n",
       "      <td>/x4salpjB11umlUOltfNvSSrjSXm.jpg</td>\n",
       "      <td>...</td>\n",
       "      <td>Fight the dead. Fear the living.</td>\n",
       "      <td>Action &amp; Adventure, Drama, Sci-Fi &amp; Fantasy</td>\n",
       "      <td>Frank Darabont</td>\n",
       "      <td>en</td>\n",
       "      <td>AMC</td>\n",
       "      <td>US</td>\n",
       "      <td>English</td>\n",
       "      <td>AMC Studios, Circle of Confusion, Valhalla Mot...</td>\n",
       "      <td>United States of America</td>\n",
       "      <td>42</td>\n",
       "    </tr>\n",
       "    <tr>\n",
       "      <th>4</th>\n",
       "      <td>63174</td>\n",
       "      <td>Lucifer</td>\n",
       "      <td>6</td>\n",
       "      <td>93</td>\n",
       "      <td>en</td>\n",
       "      <td>13870</td>\n",
       "      <td>8.486</td>\n",
       "      <td>Bored and unhappy as the Lord of Hell, Lucifer...</td>\n",
       "      <td>False</td>\n",
       "      <td>/aDBRtunw49UF4XmqfyNuD9nlYIu.jpg</td>\n",
       "      <td>...</td>\n",
       "      <td>It's good to be bad.</td>\n",
       "      <td>Crime, Sci-Fi &amp; Fantasy</td>\n",
       "      <td>Tom Kapinos</td>\n",
       "      <td>en</td>\n",
       "      <td>FOX, Netflix</td>\n",
       "      <td>US</td>\n",
       "      <td>English</td>\n",
       "      <td>Warner Bros. Television, DC Entertainment, Jer...</td>\n",
       "      <td>United States of America</td>\n",
       "      <td>45</td>\n",
       "    </tr>\n",
       "  </tbody>\n",
       "</table>\n",
       "<p>5 rows × 29 columns</p>\n",
       "</div>"
      ],
      "text/plain": [
       "      id              name  number_of_seasons  number_of_episodes  \\\n",
       "0   1399   Game of Thrones                  8                  73   \n",
       "1  71446       Money Heist                  3                  41   \n",
       "2  66732   Stranger Things                  4                  34   \n",
       "3   1402  The Walking Dead                 11                 177   \n",
       "4  63174           Lucifer                  6                  93   \n",
       "\n",
       "  original_language  vote_count  vote_average  \\\n",
       "0                en       21857         8.442   \n",
       "1                es       17836         8.257   \n",
       "2                en       16161         8.624   \n",
       "3                en       15432         8.121   \n",
       "4                en       13870         8.486   \n",
       "\n",
       "                                            overview  adult  \\\n",
       "0  Seven noble families fight for control of the ...  False   \n",
       "1  To carry out the biggest heist in history, a m...  False   \n",
       "2  When a young boy vanishes, a small town uncove...  False   \n",
       "3  Sheriff's deputy Rick Grimes awakens from a co...  False   \n",
       "4  Bored and unhappy as the Lord of Hell, Lucifer...  False   \n",
       "\n",
       "                      backdrop_path  ...                           tagline  \\\n",
       "0   /2OMB0ynKlyIenMJWI2Dy9IWT4c.jpg  ...                  Winter Is Coming   \n",
       "1  /gFZriCkpJYsApPZEF3jhxL4yLzG.jpg  ...              The perfect robbery.   \n",
       "2  /2MaumbgBlW1NoPo3ZJO38A6v7OS.jpg  ...     Every ending has a beginning.   \n",
       "3  /x4salpjB11umlUOltfNvSSrjSXm.jpg  ...  Fight the dead. Fear the living.   \n",
       "4  /aDBRtunw49UF4XmqfyNuD9nlYIu.jpg  ...              It's good to be bad.   \n",
       "\n",
       "                                        genres                 created_by  \\\n",
       "0  Sci-Fi & Fantasy, Drama, Action & Adventure  David Benioff, D.B. Weiss   \n",
       "1                                 Crime, Drama                  Álex Pina   \n",
       "2             Drama, Sci-Fi & Fantasy, Mystery   Matt Duffer, Ross Duffer   \n",
       "3  Action & Adventure, Drama, Sci-Fi & Fantasy             Frank Darabont   \n",
       "4                      Crime, Sci-Fi & Fantasy                Tom Kapinos   \n",
       "\n",
       "   languages           networks  origin_country spoken_languages  \\\n",
       "0         en                HBO              US          English   \n",
       "1         es  Netflix, Antena 3              ES          Español   \n",
       "2         en            Netflix              US          English   \n",
       "3         en                AMC              US          English   \n",
       "4         en       FOX, Netflix              US          English   \n",
       "\n",
       "                                production_companies  \\\n",
       "0  Revolution Sun Studios, Television 360, Genera...   \n",
       "1                                    Vancouver Media   \n",
       "2  21 Laps Entertainment, Monkey Massacre Product...   \n",
       "3  AMC Studios, Circle of Confusion, Valhalla Mot...   \n",
       "4  Warner Bros. Television, DC Entertainment, Jer...   \n",
       "\n",
       "                       production_countries episode_run_time  \n",
       "0  United Kingdom, United States of America                0  \n",
       "1                                     Spain               70  \n",
       "2                  United States of America                0  \n",
       "3                  United States of America               42  \n",
       "4                  United States of America               45  \n",
       "\n",
       "[5 rows x 29 columns]"
      ]
     },
     "execution_count": 37,
     "metadata": {},
     "output_type": "execute_result"
    }
   ],
   "source": [
    "#create subset with the runtime 0-100 minutes\n",
    "subset = movie_dataset[(movie_dataset['episode_run_time'] >= 0.00) & (movie_dataset['episode_run_time'] <= 100.00)]\n",
    "subset.head()"
   ]
  },
  {
   "cell_type": "code",
   "execution_count": 38,
   "id": "6eb709f0",
   "metadata": {},
   "outputs": [
    {
     "data": {
      "image/png": "[encoded data removed]",
      "text/plain": [
       "<Figure size 640x480 with 1 Axes>"
      ]
     },
     "metadata": {},
     "output_type": "display_data"
    }
   ],
   "source": [
    "# Create a scatterplot comparing checkout time and trip time\n",
    "sub_sample = subset.sample(n=5000)\n",
    "\n",
    "sub_sample.plot(x = 'episode_run_time', y= 'vote_average' ,style='o') \n",
    "plt.title('Vote average and runtime')  \n",
    "plt.xlabel('episode_run_time')  \n",
    "plt.ylabel('vote_average')  \n",
    "plt.show()"
   ]
  },
  {
   "cell_type": "code",
   "execution_count": 53,
   "id": "0871cda8",
   "metadata": {},
   "outputs": [],
   "source": [
    "#reshape variables for regression \n",
    "Xs = sub_sample['episode_run_time'].values.reshape(-1, 1)\n",
    "ys = sub_sample['vote_average'].values.reshape(-1, 1)"
   ]
  },
  {
   "cell_type": "code",
   "execution_count": 54,
   "id": "6e0f0b6b",
   "metadata": {},
   "outputs": [],
   "source": [
    "Xs_train, Xs_test, ys_train, ys_test = train_test_split(Xs, ys, test_size = 0.3, random_state = 0)"
   ]
  },
  {
   "cell_type": "code",
   "execution_count": 55,
   "id": "9b80ba93",
   "metadata": {},
   "outputs": [],
   "source": [
    "#create linear regression object\n",
    "sub_regression = LinearRegression()"
   ]
  },
  {
   "cell_type": "code",
   "execution_count": 56,
   "id": "8468296f",
   "metadata": {},
   "outputs": [
    {
     "data": {
      "text/html": [
       "<style>#sk-container-id-5 {color: black;background-color: white;}#sk-container-id-5 pre{padding: 0;}#sk-container-id-5 div.sk-toggleable {background-color: white;}#sk-container-id-5 label.sk-toggleable__label {cursor: pointer;display: block;width: 100%;margin-bottom: 0;padding: 0.3em;box-sizing: border-box;text-align: center;}#sk-container-id-5 label.sk-toggleable__label-arrow:before {content: \"▸\";float: left;margin-right: 0.25em;color: #696969;}#sk-container-id-5 label.sk-toggleable__label-arrow:hover:before {color: black;}#sk-container-id-5 div.sk-estimator:hover label.sk-toggleable__label-arrow:before {color: black;}#sk-container-id-5 div.sk-toggleable__content {max-height: 0;max-width: 0;overflow: hidden;text-align: left;background-color: #f0f8ff;}#sk-container-id-5 div.sk-toggleable__content pre {margin: 0.2em;color: black;border-radius: 0.25em;background-color: #f0f8ff;}#sk-container-id-5 input.sk-toggleable__control:checked~div.sk-toggleable__content {max-height: 200px;max-width: 100%;overflow: auto;}#sk-container-id-5 input.sk-toggleable__control:checked~label.sk-toggleable__label-arrow:before {content: \"▾\";}#sk-container-id-5 div.sk-estimator input.sk-toggleable__control:checked~label.sk-toggleable__label {background-color: #d4ebff;}#sk-container-id-5 div.sk-label input.sk-toggleable__control:checked~label.sk-toggleable__label {background-color: #d4ebff;}#sk-container-id-5 input.sk-hidden--visually {border: 0;clip: rect(1px 1px 1px 1px);clip: rect(1px, 1px, 1px, 1px);height: 1px;margin: -1px;overflow: hidden;padding: 0;position: absolute;width: 1px;}#sk-container-id-5 div.sk-estimator {font-family: monospace;background-color: #f0f8ff;border: 1px dotted black;border-radius: 0.25em;box-sizing: border-box;margin-bottom: 0.5em;}#sk-container-id-5 div.sk-estimator:hover {background-color: #d4ebff;}#sk-container-id-5 div.sk-parallel-item::after {content: \"\";width: 100%;border-bottom: 1px solid gray;flex-grow: 1;}#sk-container-id-5 div.sk-label:hover label.sk-toggleable__label {background-color: #d4ebff;}#sk-container-id-5 div.sk-serial::before {content: \"\";position: absolute;border-left: 1px solid gray;box-sizing: border-box;top: 0;bottom: 0;left: 50%;z-index: 0;}#sk-container-id-5 div.sk-serial {display: flex;flex-direction: column;align-items: center;background-color: white;padding-right: 0.2em;padding-left: 0.2em;position: relative;}#sk-container-id-5 div.sk-item {position: relative;z-index: 1;}#sk-container-id-5 div.sk-parallel {display: flex;align-items: stretch;justify-content: center;background-color: white;position: relative;}#sk-container-id-5 div.sk-item::before, #sk-container-id-5 div.sk-parallel-item::before {content: \"\";position: absolute;border-left: 1px solid gray;box-sizing: border-box;top: 0;bottom: 0;left: 50%;z-index: -1;}#sk-container-id-5 div.sk-parallel-item {display: flex;flex-direction: column;z-index: 1;position: relative;background-color: white;}#sk-container-id-5 div.sk-parallel-item:first-child::after {align-self: flex-end;width: 50%;}#sk-container-id-5 div.sk-parallel-item:last-child::after {align-self: flex-start;width: 50%;}#sk-container-id-5 div.sk-parallel-item:only-child::after {width: 0;}#sk-container-id-5 div.sk-dashed-wrapped {border: 1px dashed gray;margin: 0 0.4em 0.5em 0.4em;box-sizing: border-box;padding-bottom: 0.4em;background-color: white;}#sk-container-id-5 div.sk-label label {font-family: monospace;font-weight: bold;display: inline-block;line-height: 1.2em;}#sk-container-id-5 div.sk-label-container {text-align: center;}#sk-container-id-5 div.sk-container {/* jupyter's `normalize.less` sets `[hidden] { display: none; }` but bootstrap.min.css set `[hidden] { display: none !important; }` so we also need the `!important` here to be able to override the default hidden behavior on the sphinx rendered scikit-learn.org. See: https://github.com/scikit-learn/scikit-learn/issues/21755 */display: inline-block !important;position: relative;}#sk-container-id-5 div.sk-text-repr-fallback {display: none;}</style><div id=\"sk-container-id-5\" class=\"sk-top-container\"><div class=\"sk-text-repr-fallback\"><pre>LinearRegression()</pre><b>In a Jupyter environment, please rerun this cell to show the HTML representation or trust the notebook. <br />On GitHub, the HTML representation is unable to render, please try loading this page with nbviewer.org.</b></div><div class=\"sk-container\" hidden><div class=\"sk-item\"><div class=\"sk-estimator sk-toggleable\"><input class=\"sk-toggleable__control sk-hidden--visually\" id=\"sk-estimator-id-5\" type=\"checkbox\" checked><label for=\"sk-estimator-id-5\" class=\"sk-toggleable__label sk-toggleable__label-arrow\">LinearRegression</label><div class=\"sk-toggleable__content\"><pre>LinearRegression()</pre></div></div></div></div></div>"
      ],
      "text/plain": [
       "LinearRegression()"
      ]
     },
     "execution_count": 56,
     "metadata": {},
     "output_type": "execute_result"
    }
   ],
   "source": [
    "#fit regression to training set\n",
    "sub_regression.fit(Xs_train, ys_train)"
   ]
  },
  {
   "cell_type": "code",
   "execution_count": 57,
   "id": "4df6edaa",
   "metadata": {},
   "outputs": [],
   "source": [
    "ys_predicted = sub_regression.predict(Xs_test)"
   ]
  },
  {
   "cell_type": "code",
   "execution_count": 58,
   "id": "ab704de9",
   "metadata": {},
   "outputs": [
    {
     "data": {
      "image/png": "[encoded data removed]",
      "text/plain": [
       "<Figure size 640x480 with 1 Axes>"
      ]
     },
     "metadata": {},
     "output_type": "display_data"
    }
   ],
   "source": [
    "sub_plot_test = plt\n",
    "plot_test.scatter(Xs_test, ys_test, color='gray', s = 15)\n",
    "plot_test.plot(Xs_test, ys_predicted, color='red', linewidth =3)\n",
    "plot_test.title('Vote average and runtime (Test set)')\n",
    "plot_test.xlabel('episode_run_time')\n",
    "plot_test.ylabel('vote_average')\n",
    "plot_test.show()"
   ]
  },
  {
   "cell_type": "code",
   "execution_count": 59,
   "id": "fcbfd9ab",
   "metadata": {},
   "outputs": [],
   "source": [
    "# Create objects for model mean squared error and R2 score\n",
    "\n",
    "sub_rmse = mean_squared_error(ys_test, ys_predicted)\n",
    "sub_r2 = r2_score(ys_test, ys_predicted)"
   ]
  },
  {
   "cell_type": "code",
   "execution_count": 60,
   "id": "5ed0bd66",
   "metadata": {},
   "outputs": [
    {
     "name": "stdout",
     "output_type": "stream",
     "text": [
      "Slope: [[0.04133523]]\n",
      "Mean squared error:  10.804904858685562\n",
      "R2 score:  0.05391100137504845\n"
     ]
    }
   ],
   "source": [
    "# Print the model summary statistics\n",
    "\n",
    "print('Slope:' ,regression.coef_)\n",
    "print('Mean squared error: ', sub_rmse)\n",
    "print('R2 score: ', sub_r2)"
   ]
  },
  {
   "cell_type": "markdown",
   "id": "240eb257",
   "metadata": {},
   "source": [
    "### the MSE and R2 are larger in this instance but still indicate a poorly fitting model"
   ]
  },
  {
   "cell_type": "code",
   "execution_count": 61,
   "id": "e0880cc5",
   "metadata": {},
   "outputs": [
    {
     "data": {
      "text/html": [
       "<div>\n",
       "<style scoped>\n",
       "    .dataframe tbody tr th:only-of-type {\n",
       "        vertical-align: middle;\n",
       "    }\n",
       "\n",
       "    .dataframe tbody tr th {\n",
       "        vertical-align: top;\n",
       "    }\n",
       "\n",
       "    .dataframe thead th {\n",
       "        text-align: right;\n",
       "    }\n",
       "</style>\n",
       "<table border=\"1\" class=\"dataframe\">\n",
       "  <thead>\n",
       "    <tr style=\"text-align: right;\">\n",
       "      <th></th>\n",
       "      <th>Actual</th>\n",
       "      <th>Predicted</th>\n",
       "    </tr>\n",
       "  </thead>\n",
       "  <tbody>\n",
       "    <tr>\n",
       "      <th>0</th>\n",
       "      <td>0.000</td>\n",
       "      <td>1.632905</td>\n",
       "    </tr>\n",
       "    <tr>\n",
       "      <th>1</th>\n",
       "      <td>0.000</td>\n",
       "      <td>2.872962</td>\n",
       "    </tr>\n",
       "    <tr>\n",
       "      <th>2</th>\n",
       "      <td>0.000</td>\n",
       "      <td>1.632905</td>\n",
       "    </tr>\n",
       "    <tr>\n",
       "      <th>3</th>\n",
       "      <td>0.000</td>\n",
       "      <td>1.632905</td>\n",
       "    </tr>\n",
       "    <tr>\n",
       "      <th>4</th>\n",
       "      <td>0.000</td>\n",
       "      <td>1.632905</td>\n",
       "    </tr>\n",
       "    <tr>\n",
       "      <th>5</th>\n",
       "      <td>0.000</td>\n",
       "      <td>2.872962</td>\n",
       "    </tr>\n",
       "    <tr>\n",
       "      <th>6</th>\n",
       "      <td>5.250</td>\n",
       "      <td>2.872962</td>\n",
       "    </tr>\n",
       "    <tr>\n",
       "      <th>7</th>\n",
       "      <td>0.000</td>\n",
       "      <td>1.632905</td>\n",
       "    </tr>\n",
       "    <tr>\n",
       "      <th>8</th>\n",
       "      <td>1.000</td>\n",
       "      <td>1.632905</td>\n",
       "    </tr>\n",
       "    <tr>\n",
       "      <th>9</th>\n",
       "      <td>0.000</td>\n",
       "      <td>1.632905</td>\n",
       "    </tr>\n",
       "    <tr>\n",
       "      <th>10</th>\n",
       "      <td>0.000</td>\n",
       "      <td>1.632905</td>\n",
       "    </tr>\n",
       "    <tr>\n",
       "      <th>11</th>\n",
       "      <td>0.000</td>\n",
       "      <td>3.492991</td>\n",
       "    </tr>\n",
       "    <tr>\n",
       "      <th>12</th>\n",
       "      <td>0.000</td>\n",
       "      <td>1.632905</td>\n",
       "    </tr>\n",
       "    <tr>\n",
       "      <th>13</th>\n",
       "      <td>0.000</td>\n",
       "      <td>1.632905</td>\n",
       "    </tr>\n",
       "    <tr>\n",
       "      <th>14</th>\n",
       "      <td>0.000</td>\n",
       "      <td>2.872962</td>\n",
       "    </tr>\n",
       "    <tr>\n",
       "      <th>15</th>\n",
       "      <td>0.000</td>\n",
       "      <td>1.632905</td>\n",
       "    </tr>\n",
       "    <tr>\n",
       "      <th>16</th>\n",
       "      <td>0.000</td>\n",
       "      <td>4.113019</td>\n",
       "    </tr>\n",
       "    <tr>\n",
       "      <th>17</th>\n",
       "      <td>7.900</td>\n",
       "      <td>2.872962</td>\n",
       "    </tr>\n",
       "    <tr>\n",
       "      <th>18</th>\n",
       "      <td>8.000</td>\n",
       "      <td>3.492991</td>\n",
       "    </tr>\n",
       "    <tr>\n",
       "      <th>19</th>\n",
       "      <td>7.000</td>\n",
       "      <td>4.113019</td>\n",
       "    </tr>\n",
       "    <tr>\n",
       "      <th>20</th>\n",
       "      <td>5.000</td>\n",
       "      <td>1.632905</td>\n",
       "    </tr>\n",
       "    <tr>\n",
       "      <th>21</th>\n",
       "      <td>0.000</td>\n",
       "      <td>4.691712</td>\n",
       "    </tr>\n",
       "    <tr>\n",
       "      <th>22</th>\n",
       "      <td>7.000</td>\n",
       "      <td>4.113019</td>\n",
       "    </tr>\n",
       "    <tr>\n",
       "      <th>23</th>\n",
       "      <td>0.000</td>\n",
       "      <td>3.492991</td>\n",
       "    </tr>\n",
       "    <tr>\n",
       "      <th>24</th>\n",
       "      <td>6.833</td>\n",
       "      <td>2.872962</td>\n",
       "    </tr>\n",
       "    <tr>\n",
       "      <th>25</th>\n",
       "      <td>6.100</td>\n",
       "      <td>3.079638</td>\n",
       "    </tr>\n",
       "    <tr>\n",
       "      <th>26</th>\n",
       "      <td>0.000</td>\n",
       "      <td>1.632905</td>\n",
       "    </tr>\n",
       "    <tr>\n",
       "      <th>27</th>\n",
       "      <td>7.000</td>\n",
       "      <td>1.632905</td>\n",
       "    </tr>\n",
       "    <tr>\n",
       "      <th>28</th>\n",
       "      <td>2.000</td>\n",
       "      <td>1.632905</td>\n",
       "    </tr>\n",
       "    <tr>\n",
       "      <th>29</th>\n",
       "      <td>0.000</td>\n",
       "      <td>1.632905</td>\n",
       "    </tr>\n",
       "  </tbody>\n",
       "</table>\n",
       "</div>"
      ],
      "text/plain": [
       "    Actual  Predicted\n",
       "0    0.000   1.632905\n",
       "1    0.000   2.872962\n",
       "2    0.000   1.632905\n",
       "3    0.000   1.632905\n",
       "4    0.000   1.632905\n",
       "5    0.000   2.872962\n",
       "6    5.250   2.872962\n",
       "7    0.000   1.632905\n",
       "8    1.000   1.632905\n",
       "9    0.000   1.632905\n",
       "10   0.000   1.632905\n",
       "11   0.000   3.492991\n",
       "12   0.000   1.632905\n",
       "13   0.000   1.632905\n",
       "14   0.000   2.872962\n",
       "15   0.000   1.632905\n",
       "16   0.000   4.113019\n",
       "17   7.900   2.872962\n",
       "18   8.000   3.492991\n",
       "19   7.000   4.113019\n",
       "20   5.000   1.632905\n",
       "21   0.000   4.691712\n",
       "22   7.000   4.113019\n",
       "23   0.000   3.492991\n",
       "24   6.833   2.872962\n",
       "25   6.100   3.079638\n",
       "26   0.000   1.632905\n",
       "27   7.000   1.632905\n",
       "28   2.000   1.632905\n",
       "29   0.000   1.632905"
      ]
     },
     "execution_count": 61,
     "metadata": {},
     "output_type": "execute_result"
    }
   ],
   "source": [
    "# Create a dataframe comparing the actual and predicted values of y.\n",
    "\n",
    "data = pd.DataFrame({'Actual': y_test.flatten(), 'Predicted': y_predicted.flatten()})\n",
    "data.head(30)"
   ]
  },
  {
   "cell_type": "markdown",
   "id": "2e6daa45",
   "metadata": {},
   "source": [
    "### the predicted values compared to actual values support the poor fit of the model"
   ]
  },
  {
   "cell_type": "code",
   "execution_count": 64,
   "id": "26177273",
   "metadata": {},
   "outputs": [],
   "source": [
    "#export file\n",
    "movie_dataset.to_pickle(os.path.join(path,'movie_dataset.pkl'))"
   ]
  },
  {
   "cell_type": "code",
   "execution_count": null,
   "id": "1d2d228c",
   "metadata": {},
   "outputs": [],
   "source": []
  }
 ],
 "metadata": {
  "kernelspec": {
   "display_name": "Python 3 (ipykernel)",
   "language": "python",
   "name": "python3"
  },
  "language_info": {
   "codemirror_mode": {
    "name": "ipython",
    "version": 3
   },
   "file_extension": ".py",
   "mimetype": "text/x-python",
   "name": "python",
   "nbconvert_exporter": "python",
   "pygments_lexer": "ipython3",
   "version": "3.10.9"
  }
 },
 "nbformat": 4,
 "nbformat_minor": 5
}
